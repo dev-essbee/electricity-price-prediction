{
 "cells": [
  {
   "cell_type": "code",
   "execution_count": 1,
   "metadata": {},
   "outputs": [],
   "source": [
    "import pandas as pd\n",
    "from sklearn.ensemble import RandomForestRegressor\n",
    "from sklearn.model_selection import GridSearchCV, cross_val_score\n",
    "from sklearn.preprocessing import LabelEncoder\n",
    "import numpy as np\n",
    "from sklearn.model_selection import train_test_split\n",
    "from sklearn.metrics import mean_squared_error as mse\n",
    "from sklearn.metrics import mean_absolute_error as mae\n",
    "from mlxtend.regressor import StackingRegressor\n",
    "from sklearn.linear_model import LinearRegression\n",
    "from sklearn.tree import DecisionTreeRegressor\n",
    "\n",
    "import warnings\n",
    "warnings.filterwarnings(action='ignore')"
   ]
  },
  {
   "cell_type": "code",
   "execution_count": 2,
   "metadata": {},
   "outputs": [],
   "source": [
    "df_de=pd.read_csv('./processed_data/X_train_DE.csv')\n",
    "df_de_y=df_de['TARGET']\n",
    "df_de=df_de.drop(columns=['TARGET'])\n",
    "\n",
    "df_fr=pd.read_csv('./processed_data/X_train_FR.csv')\n",
    "df_fr_y=df_fr['TARGET']\n",
    "df_fr=df_fr.drop(columns=['TARGET'])\n",
    "\n",
    "# Splitting data in 80% training and 20% testing\n",
    "X_train_de, X_test_de, y_train_de, y_test_de = train_test_split(df_de, df_de_y, test_size=0.2, random_state=69)\n",
    "X_train_fr, X_test_fr, y_train_fr, y_test_fr = train_test_split(df_fr, df_fr_y, test_size=0.2, random_state=69)"
   ]
  },
  {
   "cell_type": "code",
   "execution_count": 3,
   "metadata": {},
   "outputs": [
    {
     "data": {
      "text/plain": [
       "Index(['ID', 'DAY_ID', 'COUNTRY', 'DE_GAS', 'FR_GAS', 'DE_COAL', 'FR_COAL',\n",
       "       'DE_HYDRO', 'FR_HYDRO', 'DE_NUCLEAR', 'FR_NUCLEAR', 'DE_SOLAR',\n",
       "       'FR_SOLAR', 'DE_WINDPOW', 'FR_WINDPOW', 'DE_LIGNITE',\n",
       "       'DE_RESIDUAL_LOAD', 'FR_RESIDUAL_LOAD', 'DE_RAIN', 'FR_RAIN', 'DE_WIND',\n",
       "       'FR_WIND', 'DE_TEMP', 'FR_TEMP', 'GAS_RET', 'COAL_RET', 'CARBON_RET',\n",
       "       'ID.1', 'DE_COAL_COST', 'DE_GAS_COST', 'FR_COAL_COST', 'FR_GAS_COST',\n",
       "       'DE_LIGNITE_COST', 'DE_COAL_CARBON', 'DE_GAS_CARBON', 'FR_COAL_CARBON',\n",
       "       'FR_GAS_CARBON', 'DE_LIGNITE_CARBON', 'EXCHANGE', 'SELF_EXPORT',\n",
       "       'OTHER_EXPORT', 'SELF_CONSUMPTION', 'OTHER_CONSUMPTION'],\n",
       "      dtype='object')"
      ]
     },
     "execution_count": 3,
     "metadata": {},
     "output_type": "execute_result"
    }
   ],
   "source": [
    "df_de.columns"
   ]
  },
  {
   "cell_type": "code",
   "execution_count": 4,
   "metadata": {},
   "outputs": [
    {
     "data": {
      "text/html": [
       "<div>\n",
       "<style scoped>\n",
       "    .dataframe tbody tr th:only-of-type {\n",
       "        vertical-align: middle;\n",
       "    }\n",
       "\n",
       "    .dataframe tbody tr th {\n",
       "        vertical-align: top;\n",
       "    }\n",
       "\n",
       "    .dataframe thead th {\n",
       "        text-align: right;\n",
       "    }\n",
       "</style>\n",
       "<table border=\"1\" class=\"dataframe\">\n",
       "  <thead>\n",
       "    <tr style=\"text-align: right;\">\n",
       "      <th></th>\n",
       "      <th>ID</th>\n",
       "      <th>DAY_ID</th>\n",
       "      <th>COUNTRY</th>\n",
       "      <th>DE_GAS</th>\n",
       "      <th>FR_GAS</th>\n",
       "      <th>DE_COAL</th>\n",
       "      <th>FR_COAL</th>\n",
       "      <th>DE_HYDRO</th>\n",
       "      <th>FR_HYDRO</th>\n",
       "      <th>DE_NUCLEAR</th>\n",
       "      <th>...</th>\n",
       "      <th>DE_COAL_CARBON</th>\n",
       "      <th>DE_GAS_CARBON</th>\n",
       "      <th>FR_COAL_CARBON</th>\n",
       "      <th>FR_GAS_CARBON</th>\n",
       "      <th>DE_LIGNITE_CARBON</th>\n",
       "      <th>EXCHANGE</th>\n",
       "      <th>SELF_EXPORT</th>\n",
       "      <th>OTHER_EXPORT</th>\n",
       "      <th>SELF_CONSUMPTION</th>\n",
       "      <th>OTHER_CONSUMPTION</th>\n",
       "    </tr>\n",
       "  </thead>\n",
       "  <tbody>\n",
       "    <tr>\n",
       "      <th>0</th>\n",
       "      <td>111</td>\n",
       "      <td>2</td>\n",
       "      <td>DE</td>\n",
       "      <td>1.228079</td>\n",
       "      <td>0.458302</td>\n",
       "      <td>-0.247704</td>\n",
       "      <td>-0.766904</td>\n",
       "      <td>1.785758</td>\n",
       "      <td>-0.930172</td>\n",
       "      <td>0.064726</td>\n",
       "      <td>...</td>\n",
       "      <td>-0.189585</td>\n",
       "      <td>0.774063</td>\n",
       "      <td>-0.586965</td>\n",
       "      <td>0.288870</td>\n",
       "      <td>-0.445656</td>\n",
       "      <td>-1.102015</td>\n",
       "      <td>-1.080403</td>\n",
       "      <td>0.256736</td>\n",
       "      <td>-0.068972</td>\n",
       "      <td>-0.667390</td>\n",
       "    </tr>\n",
       "    <tr>\n",
       "      <th>1</th>\n",
       "      <td>800</td>\n",
       "      <td>3</td>\n",
       "      <td>DE</td>\n",
       "      <td>1.588542</td>\n",
       "      <td>0.069297</td>\n",
       "      <td>-0.635452</td>\n",
       "      <td>-0.718729</td>\n",
       "      <td>1.994144</td>\n",
       "      <td>-0.383690</td>\n",
       "      <td>-2.002323</td>\n",
       "      <td>...</td>\n",
       "      <td>0.017693</td>\n",
       "      <td>-0.036424</td>\n",
       "      <td>0.020011</td>\n",
       "      <td>-0.001589</td>\n",
       "      <td>0.005824</td>\n",
       "      <td>-1.051716</td>\n",
       "      <td>-1.881881</td>\n",
       "      <td>-0.612133</td>\n",
       "      <td>-0.134670</td>\n",
       "      <td>-0.834564</td>\n",
       "    </tr>\n",
       "    <tr>\n",
       "      <th>2</th>\n",
       "      <td>831</td>\n",
       "      <td>5</td>\n",
       "      <td>DE</td>\n",
       "      <td>1.059828</td>\n",
       "      <td>0.528273</td>\n",
       "      <td>-0.072071</td>\n",
       "      <td>-0.766063</td>\n",
       "      <td>1.275857</td>\n",
       "      <td>-0.398178</td>\n",
       "      <td>-1.875681</td>\n",
       "      <td>...</td>\n",
       "      <td>-0.047898</td>\n",
       "      <td>0.580054</td>\n",
       "      <td>-0.509118</td>\n",
       "      <td>0.289129</td>\n",
       "      <td>-0.229615</td>\n",
       "      <td>0.144615</td>\n",
       "      <td>-1.208286</td>\n",
       "      <td>-1.811403</td>\n",
       "      <td>-0.297850</td>\n",
       "      <td>-0.470371</td>\n",
       "    </tr>\n",
       "    <tr>\n",
       "      <th>3</th>\n",
       "      <td>779</td>\n",
       "      <td>7</td>\n",
       "      <td>DE</td>\n",
       "      <td>0.386191</td>\n",
       "      <td>0.727314</td>\n",
       "      <td>0.255380</td>\n",
       "      <td>-0.778036</td>\n",
       "      <td>0.281094</td>\n",
       "      <td>-0.739291</td>\n",
       "      <td>-1.887303</td>\n",
       "      <td>...</td>\n",
       "      <td>-0.007520</td>\n",
       "      <td>-0.009365</td>\n",
       "      <td>0.022910</td>\n",
       "      <td>-0.017637</td>\n",
       "      <td>-0.003958</td>\n",
       "      <td>0.002239</td>\n",
       "      <td>-0.676226</td>\n",
       "      <td>-0.745182</td>\n",
       "      <td>0.057599</td>\n",
       "      <td>-0.625625</td>\n",
       "    </tr>\n",
       "    <tr>\n",
       "      <th>4</th>\n",
       "      <td>841</td>\n",
       "      <td>8</td>\n",
       "      <td>DE</td>\n",
       "      <td>0.955400</td>\n",
       "      <td>0.278566</td>\n",
       "      <td>-0.234473</td>\n",
       "      <td>-0.755877</td>\n",
       "      <td>0.385716</td>\n",
       "      <td>-0.580103</td>\n",
       "      <td>-1.889094</td>\n",
       "      <td>...</td>\n",
       "      <td>-0.464359</td>\n",
       "      <td>1.558207</td>\n",
       "      <td>-1.496966</td>\n",
       "      <td>0.454327</td>\n",
       "      <td>-0.599628</td>\n",
       "      <td>1.309253</td>\n",
       "      <td>0.248085</td>\n",
       "      <td>-2.226840</td>\n",
       "      <td>-0.282744</td>\n",
       "      <td>-0.700027</td>\n",
       "    </tr>\n",
       "  </tbody>\n",
       "</table>\n",
       "<p>5 rows × 43 columns</p>\n",
       "</div>"
      ],
      "text/plain": [
       "    ID  DAY_ID COUNTRY    DE_GAS    FR_GAS   DE_COAL   FR_COAL  DE_HYDRO  \\\n",
       "0  111       2      DE  1.228079  0.458302 -0.247704 -0.766904  1.785758   \n",
       "1  800       3      DE  1.588542  0.069297 -0.635452 -0.718729  1.994144   \n",
       "2  831       5      DE  1.059828  0.528273 -0.072071 -0.766063  1.275857   \n",
       "3  779       7      DE  0.386191  0.727314  0.255380 -0.778036  0.281094   \n",
       "4  841       8      DE  0.955400  0.278566 -0.234473 -0.755877  0.385716   \n",
       "\n",
       "   FR_HYDRO  DE_NUCLEAR  ...  DE_COAL_CARBON  DE_GAS_CARBON  FR_COAL_CARBON  \\\n",
       "0 -0.930172    0.064726  ...       -0.189585       0.774063       -0.586965   \n",
       "1 -0.383690   -2.002323  ...        0.017693      -0.036424        0.020011   \n",
       "2 -0.398178   -1.875681  ...       -0.047898       0.580054       -0.509118   \n",
       "3 -0.739291   -1.887303  ...       -0.007520      -0.009365        0.022910   \n",
       "4 -0.580103   -1.889094  ...       -0.464359       1.558207       -1.496966   \n",
       "\n",
       "   FR_GAS_CARBON  DE_LIGNITE_CARBON  EXCHANGE  SELF_EXPORT  OTHER_EXPORT  \\\n",
       "0       0.288870          -0.445656 -1.102015    -1.080403      0.256736   \n",
       "1      -0.001589           0.005824 -1.051716    -1.881881     -0.612133   \n",
       "2       0.289129          -0.229615  0.144615    -1.208286     -1.811403   \n",
       "3      -0.017637          -0.003958  0.002239    -0.676226     -0.745182   \n",
       "4       0.454327          -0.599628  1.309253     0.248085     -2.226840   \n",
       "\n",
       "   SELF_CONSUMPTION  OTHER_CONSUMPTION  \n",
       "0         -0.068972          -0.667390  \n",
       "1         -0.134670          -0.834564  \n",
       "2         -0.297850          -0.470371  \n",
       "3          0.057599          -0.625625  \n",
       "4         -0.282744          -0.700027  \n",
       "\n",
       "[5 rows x 43 columns]"
      ]
     },
     "execution_count": 4,
     "metadata": {},
     "output_type": "execute_result"
    }
   ],
   "source": [
    "df_de.head()"
   ]
  },
  {
   "cell_type": "code",
   "execution_count": 5,
   "metadata": {},
   "outputs": [],
   "source": [
    "def grid_search_random_forest(X_train,y_train,X_test,y_test):\n",
    "    # get categorical columns and encode them\n",
    "    for col in X_train.columns:\n",
    "        if X_train[col].dtype == 'object':\n",
    "            le = LabelEncoder()\n",
    "            X_train[col] = le.fit_transform(X_train[col])\n",
    "            X_test[col] = le.transform(X_test[col])\n",
    "    # parameters for grid search\n",
    "    param_grid = {\n",
    "        'max_depth': [None, 10, 20, 30],\n",
    "        'min_samples_split': [2, 5, 10],\n",
    "        'bootstrap': [True, False],\n",
    "        'n_estimators': [100, 200, 300, 400],\n",
    "        'min_samples_leaf': [1, 2, 4]\n",
    "    }\n",
    "    # defining random forest regressor and grid search\n",
    "    rf = RandomForestRegressor()\n",
    "    grid_search = GridSearchCV(estimator=rf, param_grid=param_grid, cv=3, n_jobs=-1, verbose=0)\n",
    "    grid_search.fit(X_train, y_train)\n",
    "    # get best parameters\n",
    "    params = grid_search.best_params_\n",
    "    print(params)\n",
    "    \n",
    "    best_rf = RandomForestRegressor(**params)\n",
    "    best_rf.fit(X_train, y_train)\n",
    "    y_pred = best_rf.predict(X_test)\n",
    "\n",
    "    print(f'Mean Squared Error:  {mse(y_test, y_pred)}')\n",
    "    print(f'Mean Absolute Error: {mae(y_test, y_pred)}')"
   ]
  },
  {
   "cell_type": "code",
   "execution_count": 6,
   "metadata": {},
   "outputs": [
    {
     "name": "stdout",
     "output_type": "stream",
     "text": [
      "{'bootstrap': True, 'max_depth': 10, 'min_samples_leaf': 4, 'min_samples_split': 10, 'n_estimators': 300}\n",
      "Mean Squared Error:  1.1737688858387374\n",
      "Mean Absolute Error:  0.6934183896891786\n"
     ]
    }
   ],
   "source": [
    "grid_search_random_forest(X_train_de,y_train_de,X_test_de,y_test_de)"
   ]
  },
  {
   "cell_type": "code",
   "execution_count": 7,
   "metadata": {},
   "outputs": [
    {
     "name": "stdout",
     "output_type": "stream",
     "text": [
      "{'bootstrap': True, 'max_depth': None, 'min_samples_leaf': 4, 'min_samples_split': 5, 'n_estimators': 200}\n",
      "Mean Squared Error:  0.9022901351759498\n",
      "Mean Absolute Error:  0.5208156139955012\n"
     ]
    }
   ],
   "source": [
    "grid_search_random_forest(X_train_fr,y_train_fr,X_test_fr,y_test_fr)"
   ]
  },
  {
   "cell_type": "code",
   "execution_count": 8,
   "metadata": {},
   "outputs": [],
   "source": [
    "def stacked_model(X_train,y_train,X_test,y_test):\n",
    "    # stacked model comprising of linear regression and decision tree regressor\n",
    "    for col in X_train.columns:\n",
    "        if X_train[col].dtype == 'object':\n",
    "            le = LabelEncoder()\n",
    "            X_train[col] = le.fit_transform(X_train[col])\n",
    "            X_test[col] = le.transform(X_test[col])\n",
    "    \n",
    "    dt = DecisionTreeRegressor()                \n",
    "    lr = LinearRegression()\n",
    "    \n",
    "    meta_model = LinearRegression()\n",
    "    \n",
    "    # intercept and max depth are the parameters to be tuned\n",
    "    param_grid_lr = {'fit_intercept': [True, False]}\n",
    "    param_grid_dt = {'max_depth': [None, 2, 5, 10]}\n",
    "\n",
    "    grid_dt = GridSearchCV(dt, param_grid_dt, cv=5)\n",
    "    grid_lr = GridSearchCV(lr, param_grid_lr, cv=5)\n",
    "    \n",
    "    grid_dt.fit(X_train, y_train)\n",
    "    grid_lr.fit(X_train, y_train)\n",
    "\n",
    "    base_models = [grid_lr.best_estimator_, grid_dt.best_estimator_]\n",
    "\n",
    "    stacking_model = StackingRegressor(regressors=base_models, meta_regressor=meta_model)\n",
    "    \n",
    "    stacking_model.fit(X_train.values, y_train.values)\n",
    "    y_pred = stacking_model.predict(X_test)\n",
    "\n",
    "    print(f'Mean Squared Error:  {mse(y_test, y_pred)}')\n",
    "    print(f'Mean Absolute Error: {mae(y_test, y_pred)}')"
   ]
  },
  {
   "cell_type": "code",
   "execution_count": 9,
   "metadata": {},
   "outputs": [
    {
     "name": "stdout",
     "output_type": "stream",
     "text": [
      "Mean Squared Error:  1.5626572485129753\n",
      "Mean Absolute Error:  0.7773450021828013\n"
     ]
    }
   ],
   "source": [
    "stacked_model(X_train_de,y_train_de,X_test_de,y_test_de)"
   ]
  },
  {
   "cell_type": "code",
   "execution_count": 10,
   "metadata": {},
   "outputs": [
    {
     "name": "stdout",
     "output_type": "stream",
     "text": [
      "Mean Squared Error:  0.9705016080717486\n",
      "Mean Absolute Error:  0.5820683329944006\n"
     ]
    }
   ],
   "source": [
    "stacked_model(X_train_fr,y_train_fr,X_test_fr,y_test_fr)"
   ]
  }
 ],
 "metadata": {
  "kernelspec": {
   "display_name": "ml",
   "language": "python",
   "name": "python3"
  },
  "language_info": {
   "codemirror_mode": {
    "name": "ipython",
    "version": 3
   },
   "file_extension": ".py",
   "mimetype": "text/x-python",
   "name": "python",
   "nbconvert_exporter": "python",
   "pygments_lexer": "ipython3",
   "version": "3.9.18"
  }
 },
 "nbformat": 4,
 "nbformat_minor": 2
}
