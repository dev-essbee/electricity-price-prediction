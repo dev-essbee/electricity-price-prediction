{
 "cells": [
  {
   "cell_type": "code",
   "execution_count": 1,
   "metadata": {},
   "outputs": [],
   "source": [
    "def warn(*args, **kwargs):\n",
    "    pass\n",
    "import warnings\n",
    "warnings.warn = warn"
   ]
  },
  {
   "cell_type": "code",
   "execution_count": 2,
   "metadata": {},
   "outputs": [],
   "source": [
    "#import required libraries\n",
    "import numpy as np\n",
    "import pandas as pd\n",
    "from sklearn.tree import DecisionTreeRegressor\n",
    "from sklearn.model_selection import train_test_split\n",
    "from sklearn.metrics import mean_squared_error, mean_absolute_error\n",
    "from sklearn.preprocessing import MinMaxScaler\n",
    "from sklearn.model_selection import GridSearchCV"
   ]
  },
  {
   "cell_type": "markdown",
   "metadata": {},
   "source": [
    "## Model: Decision Tree"
   ]
  },
  {
   "cell_type": "code",
   "execution_count": 4,
   "metadata": {},
   "outputs": [
    {
     "name": "stdout",
     "output_type": "stream",
     "text": [
      "Germany - Best parameters: {'max_depth': 10, 'min_samples_leaf': 10, 'min_samples_split': 2}\n",
      "Germany - MSE: 1.4868843256264321\n",
      "Germany - MAE: 0.7677330995277721\n",
      "France - Best parameters: {'max_depth': 10, 'min_samples_leaf': 10, 'min_samples_split': 2}\n",
      "France - MSE: 1.0878491892743125\n",
      "France - MAE: 0.652670261328456\n"
     ]
    }
   ],
   "source": [
    "# Function to calculate MAPE - Mean Absolute Percentage Error\n",
    "def mean_absolute_percentage_error(y_true, y_pred): \n",
    "    y_true, y_pred = np.array(y_true), np.array(y_pred)\n",
    "    return np.mean(np.abs((y_true - y_pred) / y_true)) * 100\n",
    "\n",
    "# Function to load data, clean it, and apply a decision tree\n",
    "def load_and_apply_decision_tree(file_path, country_name):\n",
    "    \n",
    "    data = pd.read_csv(file_path)\n",
    "    \n",
    "    # Drop the 'COUNTRY' column since it's a categorical variable\n",
    "    if 'COUNTRY' in data.columns:\n",
    "        data = data.drop('COUNTRY', axis=1)\n",
    "    \n",
    "    # Ensure 'ID' and 'TARGET' are in the dataframe\n",
    "    if 'ID' not in data.columns or 'TARGET' not in data.columns:\n",
    "        raise ValueError(\"The dataframe does not contain 'ID' and/or 'TARGET' columns.\")\n",
    "    \n",
    "    # Split the dataframe into features and target\n",
    "    X = data.drop(['ID', 'TARGET'], axis=1)\n",
    "    y = data['TARGET']\n",
    "\n",
    "    # Split the dataset into training and testing sets\n",
    "    X_train, X_test, y_train, y_test = train_test_split(X, y, test_size=0.2, random_state=42)\n",
    "    \n",
    "    # Initialize the GridSearchCV object with a Decision Tree Regressor\n",
    "    tree_reg = DecisionTreeRegressor(random_state=42)\n",
    "    param_grid = {\n",
    "        'max_depth': [None, 10, 20, 30],\n",
    "        'min_samples_split': [2, 10, 20],\n",
    "        'min_samples_leaf': [1, 5, 10]\n",
    "    }\n",
    "    grid_search = GridSearchCV(tree_reg, param_grid, cv=5, scoring='neg_mean_squared_error')\n",
    "\n",
    "    # Fit the grid search to the data\n",
    "    grid_search.fit(X_train, y_train)\n",
    "\n",
    "    # Print the best parameters found by GridSearchCV   \n",
    "    print(f'{country_name} - Best parameters: {grid_search.best_params_}')\n",
    "\n",
    "    # Use the best estimator found by the grid search to make predictions\n",
    "    best_tree_reg = grid_search.best_estimator_\n",
    "    predictions = best_tree_reg.predict(X_test)\n",
    "    \n",
    "    # Calculate and print the performance metrics\n",
    "    mse = mean_squared_error(y_test, predictions)\n",
    "    mae = mean_absolute_error(y_test, predictions)\n",
    "    #mape = mean_absolute_percentage_error(y_test, predictions)\n",
    "    \n",
    "    print(f'{country_name} - MSE: {mse}')\n",
    "    print(f'{country_name} - MAE: {mae}')\n",
    "    #print(f'{country_name} - MAPE: {mape} %')\n",
    "\n",
    "# Apply the decision tree model to the datasets\n",
    "load_and_apply_decision_tree('X_train_DE.csv', 'Germany')\n",
    "load_and_apply_decision_tree('X_train_FR.csv', 'France')\n"
   ]
  }
 ],
 "metadata": {
  "hide_input": false,
  "kernelspec": {
   "display_name": "Python 3.9.7",
   "language": "python",
   "name": "python3"
  },
  "language_info": {
   "codemirror_mode": {
    "name": "ipython",
    "version": 3
   },
   "file_extension": ".py",
   "mimetype": "text/x-python",
   "name": "python",
   "nbconvert_exporter": "python",
   "pygments_lexer": "ipython3",
   "version": "3.11.7"
  },
  "toc": {
   "base_numbering": 1,
   "nav_menu": {},
   "number_sections": true,
   "sideBar": true,
   "skip_h1_title": false,
   "title_cell": "Table of Contents",
   "title_sidebar": "Contents",
   "toc_cell": false,
   "toc_position": {},
   "toc_section_display": true,
   "toc_window_display": false
  },
  "vscode": {
   "interpreter": {
    "hash": "b000d5dfd48d5cfb646e041a58bba0acd5058d1ce315302d38314cb1a7d1b0d6"
   }
  }
 },
 "nbformat": 4,
 "nbformat_minor": 2
}
